{
  "cells": [
    {
      "cell_type": "markdown",
      "metadata": {
        "id": "AzDBM_v4iMe7"
      },
      "source": [
        "# 00. PyTorch Fundamentals Exercises\n",
        "\n",
        "### 1. Documentation reading \n",
        "\n",
        "A big part of deep learning (and learning to code in general) is getting familiar with the documentation of a certain framework you're using. We'll be using the PyTorch documentation a lot throughout the rest of this course. So I'd recommend spending 10-minutes reading the following (it's okay if you don't get some things for now, the focus is not yet full understanding, it's awareness):\n",
        "  * The documentation on [`torch.Tensor`](https://pytorch.org/docs/stable/tensors.html#torch-tensor).\n",
        "  * The documentation on [`torch.cuda`](https://pytorch.org/docs/master/notes/cuda.html#cuda-semantics).\n",
        "\n"
      ]
    },
    {
      "cell_type": "code",
      "execution_count": 1,
      "metadata": {
        "id": "bGD0oD8Kizak"
      },
      "outputs": [],
      "source": [
        "# No code solution (reading)"
      ]
    },
    {
      "cell_type": "markdown",
      "metadata": {
        "id": "__iXqqz-ioUJ"
      },
      "source": [
        "### 2. Create a random tensor with shape `(7, 7)`.\n"
      ]
    },
    {
      "cell_type": "code",
      "execution_count": 2,
      "metadata": {
        "id": "6pUq9Dc8i2L7"
      },
      "outputs": [
        {
          "name": "stdout",
          "output_type": "stream",
          "text": [
            "torch.Size([7, 7])\n",
            "tensor([[-1.4556, -0.5879, -0.9741, -0.8317,  1.3325,  0.3696, -3.2825],\n",
            "        [-1.3284,  1.8057, -1.5924, -0.3038, -1.1348,  0.3788, -1.0937],\n",
            "        [ 0.3688, -1.8068, -0.5683,  0.8469,  0.9339,  0.1666,  1.9242],\n",
            "        [-1.1881,  2.3910, -3.2861, -1.0704, -1.4885, -0.0132,  0.7178],\n",
            "        [ 1.3061,  1.5145,  0.9736, -0.9120,  0.1198, -0.3595, -1.1653],\n",
            "        [ 0.6444,  0.2361, -1.2557,  2.4125,  0.4387,  0.4112, -0.8464],\n",
            "        [ 0.5153,  1.1079, -0.0955,  0.5227, -0.3557, -1.7202,  0.1798]])\n"
          ]
        }
      ],
      "source": [
        "# Import torch\n",
        "import torch\n",
        "\n",
        "# Create random tensor\n",
        "x = torch.randn(7, 7)\n",
        "\n",
        "print(x.shape)\n",
        "print(x)"
      ]
    },
    {
      "cell_type": "markdown",
      "metadata": {
        "id": "9-XxvRLfiqkR"
      },
      "source": [
        "### 3. Perform a matrix multiplication on the tensor from 2 with another random tensor with shape `(1, 7)` (hint: you may have to transpose the second tensor)."
      ]
    },
    {
      "cell_type": "code",
      "execution_count": 3,
      "metadata": {
        "id": "NcLqR0Sbi_vT"
      },
      "outputs": [
        {
          "name": "stdout",
          "output_type": "stream",
          "text": [
            "tensor([[ 4.0758],\n",
            "        [-0.7730],\n",
            "        [-2.6389],\n",
            "        [-4.2571],\n",
            "        [ 1.3428],\n",
            "        [-0.2543],\n",
            "        [ 3.1523]])\n"
          ]
        }
      ],
      "source": [
        "# Create another random tensor\n",
        "y = torch.randn(1, 7)\n",
        "# Perform matrix multiplication\n",
        "print(torch.matmul(x, y.T))"
      ]
    },
    {
      "cell_type": "markdown",
      "metadata": {
        "id": "eiutdKUFiryU"
      },
      "source": [
        "### 4. Set the random seed to `0` and do 2 & 3 over again.\n",
        "\n",
        "The output should be:\n",
        "```\n",
        "(tensor([[1.8542],\n",
        "         [1.9611],\n",
        "         [2.2884],\n",
        "         [3.0481],\n",
        "         [1.7067],\n",
        "         [2.5290],\n",
        "         [1.7989]]), torch.Size([7, 1]))\n",
        "```"
      ]
    },
    {
      "cell_type": "code",
      "execution_count": 4,
      "metadata": {
        "id": "D-lOWI_1jRMm"
      },
      "outputs": [
        {
          "name": "stdout",
          "output_type": "stream",
          "text": [
            "(tensor([[ 3.5168],\n",
            "        [ 2.1984],\n",
            "        [-1.7815],\n",
            "        [ 3.8600],\n",
            "        [-1.5010],\n",
            "        [-1.6916],\n",
            "        [-2.9352]]), torch.Size([7, 1]))\n"
          ]
        }
      ],
      "source": [
        "# Set manual seed\n",
        "torch.manual_seed(0)\n",
        "\n",
        "# Create two random tensors\n",
        "x = torch.randn(7, 7)\n",
        "y = torch.randn(1, 7)\n",
        "\n",
        "# Matrix multiply tensors\n",
        "result = torch.matmul(x, y.T)\n",
        "print((result, result.shape))"
      ]
    },
    {
      "cell_type": "markdown",
      "metadata": {
        "id": "ezY6ks9Cis37"
      },
      "source": [
        "### 5. Speaking of random seeds, we saw how to set it with `torch.manual_seed()` but is there a GPU equivalent? (hint: you'll need to look into the documentation for `torch.cuda` for this one)\n",
        "  * If there is, set the GPU random seed to `1234`."
      ]
    },
    {
      "cell_type": "code",
      "execution_count": 5,
      "metadata": {
        "id": "_LKWcfSTjp00"
      },
      "outputs": [],
      "source": [
        "# Set random seed on the GPU\n",
        "torch.cuda.manual_seed(1234)"
      ]
    },
    {
      "cell_type": "markdown",
      "metadata": {
        "id": "Ir9qSaj6it4n"
      },
      "source": [
        "\n",
        "### 6. Create two random tensors of shape `(2, 3)` and send them both to the GPU (you'll need access to a GPU for this). Set `torch.manual_seed(1234)` when creating the tensors (this doesn't have to be the GPU random seed). The output should be something like:\n",
        "\n",
        "```\n",
        "Device: cuda\n",
        "(tensor([[0.0290, 0.4019, 0.2598],\n",
        "         [0.3666, 0.0583, 0.7006]], device='cuda:0'),\n",
        " tensor([[0.0518, 0.4681, 0.6738],\n",
        "         [0.3315, 0.7837, 0.5631]], device='cuda:0'))\n",
        "```"
      ]
    },
    {
      "cell_type": "code",
      "execution_count": 6,
      "metadata": {
        "id": "azXExiFZj5nm"
      },
      "outputs": [
        {
          "name": "stdout",
          "output_type": "stream",
          "text": [
            "Device: cuda\n"
          ]
        },
        {
          "name": "stdout",
          "output_type": "stream",
          "text": [
            "(tensor([[-0.1593, -0.1330, -0.0469],\n",
            "        [-0.2802,  0.5401, -0.1464]], device='cuda:0'), tensor([[-0.1574, -1.0190,  0.0279],\n",
            "        [ 0.8047, -1.3186, -1.0661]], device='cuda:0'))\n"
          ]
        }
      ],
      "source": [
        "# Set random seed\n",
        "torch.cuda.manual_seed(1234)\n",
        "\n",
        "# Check for access to GPU\n",
        "device = 'cuda' if torch.cuda.is_available() else 'cpu'\n",
        "print('Device: ' + device)\n",
        "\n",
        "# Create two random tensors on GPU\n",
        "x = torch.randn(2, 3)\n",
        "x = x.to(device)\n",
        "y = torch.randn(2, 3)\n",
        "y = y.to(device)\n",
        "\n",
        "print((x, y))"
      ]
    },
    {
      "cell_type": "markdown",
      "metadata": {
        "id": "5TlAxeiSiu1y"
      },
      "source": [
        "\n",
        "### 7. Perform a matrix multiplication on the tensors you created in 6 (again, you may have to adjust the shapes of one of the tensors).\n",
        "\n",
        "The output should look like:\n",
        "```\n",
        "(tensor([[0.3647, 0.4709],\n",
        "         [0.5184, 0.5617]], device='cuda:0'), torch.Size([2, 2]))\n",
        "```"
      ]
    },
    {
      "cell_type": "code",
      "execution_count": 7,
      "metadata": {
        "id": "fAeG7ox0lHEO"
      },
      "outputs": [
        {
          "name": "stdout",
          "output_type": "stream",
          "text": [
            "(tensor([[ 0.1592,  0.0972],\n",
            "        [-0.5103, -0.7816]], device='cuda:0'), torch.Size([2, 2]))\n"
          ]
        }
      ],
      "source": [
        "# Perform matmul on tensor_A and tensor_B\n",
        "result = torch.matmul(x, y.T)\n",
        "\n",
        "print((result, result.shape))"
      ]
    },
    {
      "cell_type": "markdown",
      "metadata": {
        "id": "G7qfa5CSivwg"
      },
      "source": [
        "### 8. Find the maximum and minimum values of the output of 7."
      ]
    },
    {
      "cell_type": "code",
      "execution_count": 8,
      "metadata": {
        "id": "Fu8_3mZpllOd"
      },
      "outputs": [
        {
          "name": "stdout",
          "output_type": "stream",
          "text": [
            "Max: tensor(0.1592, device='cuda:0')\n",
            "Min: tensor(-0.7816, device='cuda:0')\n"
          ]
        }
      ],
      "source": [
        "# Find max\n",
        "print('Max:', torch.max(result))\n",
        "# Find min\n",
        "print('Min:', torch.min(result))"
      ]
    },
    {
      "cell_type": "markdown",
      "metadata": {
        "id": "wrTj5FgNiw47"
      },
      "source": [
        "### 9. Find the maximum and minimum index values of the output of 7."
      ]
    },
    {
      "cell_type": "code",
      "execution_count": 9,
      "metadata": {
        "id": "CCEKt4K2lsfQ"
      },
      "outputs": [
        {
          "name": "stdout",
          "output_type": "stream",
          "text": [
            "Arg max:  tensor(0, device='cuda:0')\n",
            "Arg min:  tensor(3, device='cuda:0')\n"
          ]
        }
      ],
      "source": [
        "# Find arg max\n",
        "print('Arg max: ', torch.argmax(result))\n",
        "\n",
        "# Find arg min\n",
        "print('Arg min: ', torch.argmin(result))"
      ]
    },
    {
      "cell_type": "markdown",
      "metadata": {
        "id": "hmeybz4uixy7"
      },
      "source": [
        "\n",
        "### 10. Make a random tensor with shape `(1, 1, 1, 10)` and then create a new tensor with all the `1` dimensions removed to be left with a tensor of shape `(10)`. Set the seed to `7` when you create it and print out the first tensor and it's shape as well as the second tensor and it's shape.\n",
        "\n",
        "The output should look like:\n",
        "\n",
        "```\n",
        "tensor([[[[0.5349, 0.1988, 0.6592, 0.6569, 0.2328, 0.4251, 0.2071, 0.6297,\n",
        "           0.3653, 0.8513]]]]) torch.Size([1, 1, 1, 10])\n",
        "tensor([0.5349, 0.1988, 0.6592, 0.6569, 0.2328, 0.4251, 0.2071, 0.6297, 0.3653,\n",
        "        0.8513]) torch.Size([10])\n",
        "```"
      ]
    },
    {
      "cell_type": "code",
      "execution_count": 10,
      "metadata": {
        "id": "TQ9zbRzVl1jV"
      },
      "outputs": [
        {
          "name": "stdout",
          "output_type": "stream",
          "text": [
            "tensor([[[[-2.9771,  1.9956, -0.9683, -0.7803, -0.5713, -0.9645, -1.0204,\n",
            "            1.0309,  2.2084,  0.1380]]]])\n",
            "(tensor([-2.9771,  1.9956, -0.9683, -0.7803, -0.5713, -0.9645, -1.0204,  1.0309,\n",
            "         2.2084,  0.1380]), torch.Size([10]))\n"
          ]
        }
      ],
      "source": [
        "# Set seed\n",
        "torch.cuda.manual_seed(0)\n",
        "\n",
        "# Create random tensor\n",
        "x = torch.randn(1, 1, 1, 10)\n",
        "print(x)\n",
        "\n",
        "# Remove single dimensions\n",
        "x = x.reshape(10)\n",
        "x = x.unsqueeze(0).unsqueeze(0).unsqueeze(0)\n",
        "x = x.squeeze()\n",
        "\n",
        "# Print out tensors and their shapes\n",
        "print((x, x.shape))"
      ]
    },
    {
      "cell_type": "code",
      "execution_count": 11,
      "metadata": {},
      "outputs": [
        {
          "name": "stdout",
          "output_type": "stream",
          "text": [
            "<class 'torch.Tensor'> tensor([[2.2251e-31, 0.0000e+00, 5.8625e-30, 0.0000e+00],\n",
            "        [0.0000e+00, 0.0000e+00, 0.0000e+00, 0.0000e+00],\n",
            "        [0.0000e+00, 0.0000e+00, 9.1835e-41, 0.0000e+00]])\n"
          ]
        }
      ],
      "source": [
        "x = torch.empty(3, 4)\n",
        "print(type(x), x)"
      ]
    },
    {
      "cell_type": "markdown",
      "metadata": {},
      "source": [
        "- `torch.Tensor` is an alias for `torch.FloatTensor` by default which 32 bit floating point number.\n",
        "- `torch.empty` allocates memory for the tensor, but doesnot initialize it with any values, so the output is garbage values already present in the allocated memory.\n",
        "- 1-dimensional tensor is called a vector.\n",
        "- 2-dimensional tensor is often referred to as a matrix.\n",
        "- Anything more than 2 dimensions is called a vector."
      ]
    },
    {
      "cell_type": "code",
      "execution_count": 12,
      "metadata": {},
      "outputs": [
        {
          "name": "stdout",
          "output_type": "stream",
          "text": [
            "Zeros:  (tensor([[0., 0., 0.],\n",
            "        [0., 0., 0.]]), torch.Size([2, 3]))\n",
            "Ones:  (tensor([[1., 1., 1.],\n",
            "        [1., 1., 1.]]), torch.Size([2, 3]))\n"
          ]
        }
      ],
      "source": [
        "zeros = torch.zeros(2, 3)\n",
        "print('Zeros: ', (zeros, zeros.shape))\n",
        "\n",
        "ones = torch.ones(2, 3)\n",
        "print('Ones: ', (ones, ones.shape))"
      ]
    },
    {
      "cell_type": "code",
      "execution_count": 13,
      "metadata": {},
      "outputs": [
        {
          "name": "stdout",
          "output_type": "stream",
          "text": [
            "Uniform random: tensor([[0.3126, 0.3791, 0.3087],\n",
            "        [0.0736, 0.4216, 0.0691]])\n",
            "Standard Normal (Gaussian): tensor([[ 1.0757, -1.2086, -0.6922],\n",
            "        [ 2.0419, -1.8508,  2.1626]])\n"
          ]
        }
      ],
      "source": [
        "torch.manual_seed(1729)\n",
        "uniform_distribution = torch.rand(2, 3)\n",
        "print('Uniform random:', uniform_distribution)\n",
        "\n",
        "gaussian = torch.randn(2, 3)\n",
        "print('Standard Normal (Gaussian):', gaussian)"
      ]
    },
    {
      "cell_type": "markdown",
      "metadata": {},
      "source": [
        "- `torch.rand` samples from uniform distribution with range [0, 1]\n",
        "- `torch.randn` samples from standard normal distribution with mean = 0 and std_deviation = 1\n",
        "- `torch.random_seed` make the random values reproducible. [pytorch documentation on reproducibility](https://pytorch.org/tutorials/beginner/introyt/tensors_deeper_tutorial.html)"
      ]
    },
    {
      "cell_type": "code",
      "execution_count": 14,
      "metadata": {},
      "outputs": [
        {
          "name": "stdout",
          "output_type": "stream",
          "text": [
            "(tensor([[[2.4317e-34, 4.5765e-41, 5.8602e-30],\n",
            "         [0.0000e+00, 1.4013e-45, 0.0000e+00]],\n",
            "\n",
            "        [[5.8734e-30, 0.0000e+00, 0.0000e+00],\n",
            "         [0.0000e+00, 0.0000e+00, 0.0000e+00]]]), torch.Size([2, 2, 3]))\n",
            "Empty Like: (tensor([[[5.8592e-30, 0.0000e+00, 5.8664e-30],\n",
            "         [0.0000e+00, 1.1210e-43, 0.0000e+00]],\n",
            "\n",
            "        [[8.9683e-44, 0.0000e+00, 2.2269e-31],\n",
            "         [0.0000e+00, 0.0000e+00, 0.0000e+00]]]), torch.Size([2, 2, 3]))\n",
            "Zeros like: (tensor([[[0., 0., 0.],\n",
            "         [0., 0., 0.]],\n",
            "\n",
            "        [[0., 0., 0.],\n",
            "         [0., 0., 0.]]]), torch.Size([2, 2, 3]))\n",
            "Ones like: (tensor([[[1., 1., 1.],\n",
            "         [1., 1., 1.]],\n",
            "\n",
            "        [[1., 1., 1.],\n",
            "         [1., 1., 1.]]]), torch.Size([2, 2, 3]))\n",
            "Rand like: (tensor([[[0.6929, 0.1703, 0.1384],\n",
            "         [0.4759, 0.7481, 0.0361]],\n",
            "\n",
            "        [[0.5062, 0.8469, 0.2588],\n",
            "         [0.2707, 0.4115, 0.6839]]]), torch.Size([2, 2, 3]))\n",
            "Randn like: (tensor([[[-1.1860, -0.4872, -1.9286],\n",
            "         [-1.1155,  2.2702,  0.1513]],\n",
            "\n",
            "        [[-0.6572,  0.0337,  0.5095],\n",
            "         [-1.2934,  0.0326, -1.9171]]]), torch.Size([2, 2, 3]))\n"
          ]
        }
      ],
      "source": [
        "x = torch.empty(2, 2, 3)\n",
        "print((x, x.shape))\n",
        "\n",
        "empty_like_x = torch.empty_like(x)\n",
        "print('Empty Like:', (empty_like_x, empty_like_x.shape))\n",
        "\n",
        "zeros_like_x = torch.zeros_like(x)\n",
        "print('Zeros like:', (zeros_like_x, zeros_like_x.shape))\n",
        "\n",
        "ones_like_x = torch.ones_like(x)\n",
        "print('Ones like:', (ones_like_x, ones_like_x.shape))\n",
        "\n",
        "rand_like = torch.rand_like(x)\n",
        "print('Rand like:', (rand_like, rand_like.shape))\n",
        "\n",
        "randn_like = torch.randn_like(x)\n",
        "print('Randn like:', (randn_like, randn_like.shape))"
      ]
    },
    {
      "cell_type": "markdown",
      "metadata": {},
      "source": [
        "- *_like methods create a new tensor with the same shape as the input tensor"
      ]
    },
    {
      "cell_type": "code",
      "execution_count": 15,
      "metadata": {},
      "outputs": [
        {
          "name": "stdout",
          "output_type": "stream",
          "text": [
            "tensor([[3.1416, 2.7183],\n",
            "        [1.6180, 0.0073]])\n",
            "tensor([ 2.,  3.,  5.,  7., 11., 13., 17., 19.])\n",
            "tensor([[2., 4., 6.],\n",
            "        [3., 6., 8.]])\n"
          ]
        }
      ],
      "source": [
        "some_constants = torch.Tensor([[3.1415926, 2.71828], [1.61803, 0.0072897]])\n",
        "print(some_constants)\n",
        "\n",
        "some_integers = torch.Tensor((2, 3, 5, 7, 11, 13, 17, 19))\n",
        "print(some_integers)\n",
        "\n",
        "more_integers = torch.Tensor(((2, 4, 6), [3, 6, 8]))\n",
        "print(more_integers)"
      ]
    },
    {
      "cell_type": "markdown",
      "metadata": {},
      "source": [
        "- `torch.Tensor` creates a tensor from list or tuple."
      ]
    },
    {
      "cell_type": "code",
      "execution_count": 16,
      "metadata": {},
      "outputs": [
        {
          "name": "stdout",
          "output_type": "stream",
          "text": [
            "tensor([[1, 1, 1],\n",
            "        [1, 1, 1]], dtype=torch.int16)\n",
            "tensor([[17.7174, 14.2091, 18.9694],\n",
            "        [15.5129,  1.7932, 13.2545]], dtype=torch.float64)\n",
            "tensor([[17, 14, 18],\n",
            "        [15,  1, 13]], dtype=torch.int32)\n"
          ]
        }
      ],
      "source": [
        "a = torch.ones(2, 3, dtype=torch.int16)\n",
        "a = torch.ones((2, 3), dtype=torch.int16)\n",
        "# both are correct, second preferred.\n",
        "print(a)\n",
        "\n",
        "b = torch.rand((2, 3), dtype=torch.float64) * 20.\n",
        "print(b)\n",
        "\n",
        "c = b.to(torch.int32)\n",
        "print(c)\n",
        "\n",
        "# Available data types\n",
        "# torch.bool\n",
        "# torch.int8\n",
        "# torch.uint8\n",
        "# torch.int16\n",
        "# torch.int32\n",
        "# torch.int64\n",
        "# torch.half euivalent to torch.float16\n",
        "# torch.float\n",
        "# torch.double\n",
        "# torch.bfloat"
      ]
    },
    {
      "cell_type": "code",
      "execution_count": 17,
      "metadata": {},
      "outputs": [
        {
          "name": "stdout",
          "output_type": "stream",
          "text": [
            "(tensor([[1., 1., 1.],\n",
            "        [1., 1., 1.]]), torch.Size([2, 3]))\n",
            "(tensor([[2., 2., 2.],\n",
            "        [2., 2., 2.]]), torch.Size([2, 3]))\n",
            "(tensor([[3., 3., 3.],\n",
            "        [3., 3., 3.]]), torch.Size([2, 3]))\n",
            "(tensor([[4., 4., 4.],\n",
            "        [4., 4., 4.]]), torch.Size([2, 3]))\n",
            "tensor([[1.4142, 1.4142, 1.4142],\n",
            "        [1.4142, 1.4142, 1.4142]]) torch.Size([2, 3])\n"
          ]
        }
      ],
      "source": [
        "# Mathematical operations\n",
        "ones = torch.zeros(2, 3) + 1\n",
        "twos = torch.ones(2, 3) * 2\n",
        "threes = (torch.ones(2, 3) * 7 - 1) / 2\n",
        "fours = twos ** 2\n",
        "sqrt2s = twos ** 0.5\n",
        "\n",
        "print((ones, ones.shape))\n",
        "print((twos, twos.shape))\n",
        "print((threes, threes.shape))\n",
        "print((fours, fours.shape))\n",
        "print(sqrt2s, sqrt2s.shape)"
      ]
    },
    {
      "cell_type": "markdown",
      "metadata": {},
      "source": [
        "- Arithmetic operations between tensors and scalars are distributed over every element of the tensor."
      ]
    },
    {
      "cell_type": "code",
      "execution_count": 18,
      "metadata": {},
      "outputs": [
        {
          "name": "stdout",
          "output_type": "stream",
          "text": [
            "tensor([[ 2.,  4.],\n",
            "        [ 8., 16.]]) torch.Size([2, 2])\n",
            "tensor([[5., 5., 5.],\n",
            "        [5., 5., 5.]])\n",
            "tensor([[12., 12., 12.],\n",
            "        [12., 12., 12.]])\n",
            "MatMul: tensor([[24., 24., 24.],\n",
            "        [24., 24., 24.],\n",
            "        [24., 24., 24.]])\n"
          ]
        }
      ],
      "source": [
        "twos = torch.ones((2, 2)) * 2\n",
        "powers2 = twos ** torch.tensor([[1, 2], [3, 4]])\n",
        "print(powers2, powers2.shape)\n",
        "\n",
        "fives = ones + fours\n",
        "print(fives)\n",
        "\n",
        "dozens = threes * fours # This mutliplies corresponding elements of two tensors.\n",
        "# It is different from matrix multiplication.\n",
        "print(dozens)\n",
        "\n",
        "result = torch.matmul(threes.T, fours)\n",
        "print('MatMul:', result)"
      ]
    },
    {
      "cell_type": "code",
      "execution_count": 19,
      "metadata": {},
      "outputs": [],
      "source": [
        "a = torch.rand(2, 3)\n",
        "b = torch.rand(3, 2)\n",
        "\n",
        "# print(a * b) # Shape should be same for scalar multiplication."
      ]
    },
    {
      "cell_type": "code",
      "execution_count": 20,
      "metadata": {},
      "outputs": [
        {
          "name": "stdout",
          "output_type": "stream",
          "text": [
            "tensor([[1., 1., 1., 1.],\n",
            "        [1., 1., 1., 1.],\n",
            "        [1., 1., 1., 1.]])\n",
            "tensor([[1., 1., 1., 1.],\n",
            "        [2., 2., 2., 2.],\n",
            "        [3., 3., 3., 3.]])\n",
            "tensor([[2., 2., 2., 2.],\n",
            "        [4., 4., 4., 4.],\n",
            "        [6., 6., 6., 6.]])\n"
          ]
        }
      ],
      "source": [
        "z = torch.ones(3, 4)\n",
        "print(z)\n",
        "\n",
        "x = z * torch.tensor([[1], [2], [3]])\n",
        "doubled = x * (torch.ones(1, 4) * 2)\n",
        "\n",
        "print(x)\n",
        "print(doubled)"
      ]
    },
    {
      "cell_type": "markdown",
      "metadata": {},
      "source": [
        "Broadcasting is a way to perform an operation between tensors that have similarities in their shapes. In the example above, the one-row, four-column tensor is mutliplied by both rows of the two-row, four-column tensor.\n",
        "\n",
        "The rules of broadcasting are:\n",
        "- Each tensor must have at least one dimension - no empty tensors.\n",
        "- Comparing the dimension sizes of the two tensors, going from last to first:\n",
        "  - Each dimension must be equal, or\n",
        "  - One of the dimensions msut be of size 1, or\n",
        "  - The dimension does not exist in one of the tensor."
      ]
    },
    {
      "cell_type": "code",
      "execution_count": 21,
      "metadata": {},
      "outputs": [
        {
          "name": "stdout",
          "output_type": "stream",
          "text": [
            "tensor([[[0.7242, 0.0776],\n",
            "         [0.4004, 0.9877],\n",
            "         [0.0352, 0.0905]],\n",
            "\n",
            "        [[0.7242, 0.0776],\n",
            "         [0.4004, 0.9877],\n",
            "         [0.0352, 0.0905]],\n",
            "\n",
            "        [[0.7242, 0.0776],\n",
            "         [0.4004, 0.9877],\n",
            "         [0.0352, 0.0905]],\n",
            "\n",
            "        [[0.7242, 0.0776],\n",
            "         [0.4004, 0.9877],\n",
            "         [0.0352, 0.0905]]])\n",
            "tensor([[[0.4485, 0.4485],\n",
            "         [0.8740, 0.8740],\n",
            "         [0.2526, 0.2526]],\n",
            "\n",
            "        [[0.4485, 0.4485],\n",
            "         [0.8740, 0.8740],\n",
            "         [0.2526, 0.2526]],\n",
            "\n",
            "        [[0.4485, 0.4485],\n",
            "         [0.8740, 0.8740],\n",
            "         [0.2526, 0.2526]],\n",
            "\n",
            "        [[0.4485, 0.4485],\n",
            "         [0.8740, 0.8740],\n",
            "         [0.2526, 0.2526]]])\n"
          ]
        }
      ],
      "source": [
        "a = torch.ones(4, 3, 2)\n",
        "\n",
        "b = a * torch.rand(3, 2)\n",
        "print(b)\n",
        "\n",
        "c = a * torch.rand(3, 1)\n",
        "print(c)\n",
        "\n",
        "d = a * torch.rand(1, 2)"
      ]
    },
    {
      "cell_type": "code",
      "execution_count": 22,
      "metadata": {},
      "outputs": [
        {
          "name": "stdout",
          "output_type": "stream",
          "text": [
            "tensor([[ 0.5491, -0.5340,  0.6881,  0.8008],\n",
            "        [-0.2010,  0.2648,  0.8928, -0.9773]])\n",
            "Common functions:\n",
            "Absolute: tensor([[0.5491, 0.5340, 0.6881, 0.8008],\n",
            "        [0.2010, 0.2648, 0.8928, 0.9773]])\n",
            "Ceil: tensor([[1., -0., 1., 1.],\n",
            "        [-0., 1., 1., -0.]])\n",
            "Floor: tensor([[ 0., -1.,  0.,  0.],\n",
            "        [-1.,  0.,  0., -1.]])\n",
            "Clamp: tensor([[ 0.5000, -0.5000,  0.5000,  0.5000],\n",
            "        [-0.2010,  0.2648,  0.5000, -0.5000]])\n"
          ]
        }
      ],
      "source": [
        "# Maths with tensors\n",
        "\n",
        "a = torch.rand(2, 4) * 2 - 1\n",
        "print(a)\n",
        "print('Common functions:')\n",
        "print('Absolute:', torch.abs(a))\n",
        "print('Ceil:', torch.ceil(a))\n",
        "print('Floor:', torch.floor(a))\n",
        "print('Clamp:', torch.clamp(a, -0.5, 0.5))"
      ]
    },
    {
      "cell_type": "code",
      "execution_count": 23,
      "metadata": {},
      "outputs": [
        {
          "name": "stdout",
          "output_type": "stream",
          "text": [
            "tensor([ 0.0000e+00,  7.0711e-01,  1.0000e+00,  7.0711e-01, -8.7423e-08])\n",
            "tensor([ 0.0000e+00,  7.8540e-01,  1.5708e+00,  7.8540e-01, -8.7423e-08])\n"
          ]
        }
      ],
      "source": [
        "import math\n",
        "# Trigonometric functions and their inverses\n",
        "angles = torch.tensor([0, math.pi / 4, math.pi / 2, 3 * math.pi / 4, math.pi])\n",
        "\n",
        "sines = torch.sin(angles)\n",
        "print(sines)\n",
        "inverses = torch.asin(sines)\n",
        "print(inverses)"
      ]
    },
    {
      "cell_type": "code",
      "execution_count": 24,
      "metadata": {},
      "outputs": [
        {
          "name": "stdout",
          "output_type": "stream",
          "text": [
            "tensor([3, 2, 1])\n"
          ]
        }
      ],
      "source": [
        "# bitwise operations\n",
        "b = torch.tensor([1, 5, 11])\n",
        "c = torch.tensor([2, 7, 10])\n",
        "print(torch.bitwise_xor(b, c))"
      ]
    },
    {
      "cell_type": "code",
      "execution_count": 25,
      "metadata": {},
      "outputs": [
        {
          "name": "stdout",
          "output_type": "stream",
          "text": [
            "\n",
            "Broadcasted, element-wise equality comparison:\n",
            "tensor([[ True, False],\n",
            "        [False, False]])\n"
          ]
        }
      ],
      "source": [
        "# comparisons:\n",
        "print('\\nBroadcasted, element-wise equality comparison:')\n",
        "d = torch.tensor([[1., 2.], [3., 4.]])\n",
        "e = torch.ones(1, 2)\n",
        "print(torch.eq(d, e))"
      ]
    },
    {
      "cell_type": "code",
      "execution_count": 26,
      "metadata": {},
      "outputs": [
        {
          "name": "stdout",
          "output_type": "stream",
          "text": [
            "Reduction ops\n",
            "tensor(4.)\n",
            "4.0\n",
            "tensor(2.5000)\n",
            "tensor(1.2910)\n",
            "tensor(24.)\n",
            "tensor([1, 2])\n"
          ]
        }
      ],
      "source": [
        "# Reductions\n",
        "print('Reduction ops')\n",
        "print(torch.max(d)) # maximum tensor\n",
        "print(torch.max(d).item()) # maximum value\n",
        "print(torch.mean(d)) # mean tensor\n",
        "print(torch.std(d)) # standard deviation\n",
        "print(torch.prod(d)) # product\n",
        "print(torch.unique(torch.tensor([1, 2, 1, 2, 1, 2]))) # filter unique elements."
      ]
    },
    {
      "cell_type": "code",
      "execution_count": 27,
      "metadata": {},
      "outputs": [
        {
          "name": "stdout",
          "output_type": "stream",
          "text": [
            "Vectors & Matrices:\n",
            "tensor([ 0.,  9., -1.])\n",
            "tensor([[0.5183, 0.9807],\n",
            "        [0.6545, 0.4144]])\n",
            "tensor([[1.5548, 2.9421],\n",
            "        [1.9635, 1.2431]])\n",
            "torch.return_types.svd(\n",
            "U=tensor([[-0.8335, -0.5526],\n",
            "        [-0.5526,  0.8335]]),\n",
            "S=tensor([3.9398, 0.9757]),\n",
            "V=tensor([[-0.6043,  0.7968],\n",
            "        [-0.7968, -0.6043]]))\n"
          ]
        }
      ],
      "source": [
        "# vector and linear algebra operations\n",
        "v1 = torch.tensor([1., 0., 0.]) # x unit vector\n",
        "v2 = torch.tensor([0., 1., 9.]) # y unit vector\n",
        "m1 = torch.rand(2, 2) # random matrix\n",
        "m2 = torch.tensor([[3., 0.], [0., 3.]]) # three times identity matrix\n",
        "\n",
        "print('Vectors & Matrices:')\n",
        "print(torch.cross(v2, v1)) # negative of z unit vector (v1 x v2 == -v2 x v1)\n",
        "print(m1)\n",
        "m3 = torch.matmul(m1, m2)\n",
        "print(m3)\n",
        "print(torch.svd(m3))"
      ]
    },
    {
      "cell_type": "markdown",
      "metadata": {},
      "source": [
        "- Most of the math functions have a version with an appended underscore (`_`) that will alter a tensor in place"
      ]
    },
    {
      "cell_type": "code",
      "execution_count": 28,
      "metadata": {},
      "outputs": [
        {
          "name": "stdout",
          "output_type": "stream",
          "text": [
            "tensor([0.0000, 0.7071, 1.0000, 0.7071])\n",
            "tensor([0.0000, 0.7854, 1.5708, 2.3562])\n",
            "tensor([0.0000, 0.7071, 1.0000, 0.7071])\n",
            "tensor([0.0000, 0.7071, 1.0000, 0.7071])\n"
          ]
        }
      ],
      "source": [
        "a = torch.tensor([0, math.pi / 4, math.pi / 2, 3 * math.pi / 4])\n",
        "print(torch.sin(a))\n",
        "print(a)\n",
        "\n",
        "print(torch.sin_(a)) # in place operation\n",
        "print(a)"
      ]
    },
    {
      "cell_type": "code",
      "execution_count": 29,
      "metadata": {},
      "outputs": [
        {
          "name": "stdout",
          "output_type": "stream",
          "text": [
            "tensor([[  1., 561.],\n",
            "        [  1.,   1.]])\n"
          ]
        }
      ],
      "source": [
        "a = torch.ones(2, 2)\n",
        "b = a\n",
        "\n",
        "a[0][1] = 561 # we change a...\n",
        "print(b)"
      ]
    },
    {
      "cell_type": "code",
      "execution_count": 30,
      "metadata": {},
      "outputs": [
        {
          "name": "stdout",
          "output_type": "stream",
          "text": [
            "140265499624688\n",
            "140265499624688\n"
          ]
        }
      ],
      "source": [
        "print(id(a))\n",
        "print(id(b))"
      ]
    },
    {
      "cell_type": "code",
      "execution_count": 31,
      "metadata": {},
      "outputs": [
        {
          "name": "stdout",
          "output_type": "stream",
          "text": [
            "tensor([[True, True],\n",
            "        [True, True]])\n",
            "tensor([[1., 1.],\n",
            "        [1., 1.]])\n"
          ]
        }
      ],
      "source": [
        "a = torch.ones(2, 2)\n",
        "b = a.clone()\n",
        "\n",
        "assert b is not a      # different objects in memory...\n",
        "print(torch.eq(a, b))  # ...but still with the same contents!\n",
        "\n",
        "a[0][1] = 561          # a changes...\n",
        "print(b)               # ...but b is still all ones"
      ]
    },
    {
      "cell_type": "code",
      "execution_count": 32,
      "metadata": {},
      "outputs": [
        {
          "name": "stdout",
          "output_type": "stream",
          "text": [
            "tensor([[0.0696, 0.4648],\n",
            "        [0.4491, 0.6265]], requires_grad=True)\n",
            "tensor([[0.0696, 0.4648],\n",
            "        [0.4491, 0.6265]], grad_fn=<CloneBackward0>)\n",
            "tensor([[0.0696, 0.4648],\n",
            "        [0.4491, 0.6265]])\n",
            "tensor([[0.0696, 0.4648],\n",
            "        [0.4491, 0.6265]], requires_grad=True)\n"
          ]
        }
      ],
      "source": [
        "# If the source tensor has autograd, enabled then so will the clone.\n",
        "# The detach method detaches the tensor from its computation history.\n",
        "# It says do whatever comes next as if autograd was off.\n",
        "\n",
        "a = torch.rand(2, 2, requires_grad = True) # turn on autograd\n",
        "print(a)\n",
        "\n",
        "b = a.clone()\n",
        "print(b)\n",
        "\n",
        "c = a.detach().clone()\n",
        "print(c)\n",
        "\n",
        "print(a)"
      ]
    },
    {
      "cell_type": "code",
      "execution_count": 33,
      "metadata": {},
      "outputs": [
        {
          "name": "stdout",
          "output_type": "stream",
          "text": [
            "We have a gpu available\n"
          ]
        }
      ],
      "source": [
        "# CUDA - Compute Unified Device Architecture\n",
        "if torch.cuda.is_available():\n",
        "  print('We have a gpu available')\n",
        "else:\n",
        "  print('Sorry, CPU only')\n"
      ]
    },
    {
      "cell_type": "code",
      "execution_count": 34,
      "metadata": {},
      "outputs": [
        {
          "name": "stdout",
          "output_type": "stream",
          "text": [
            "tensor([[0.3344, 0.2640],\n",
            "        [0.2119, 0.0582]], device='cuda:0')\n"
          ]
        }
      ],
      "source": [
        "# By default, new tensors are created on the CPU, so we have to specify\n",
        "# when we want to create our tensor on the GPU with the optional\n",
        "# device argument.\n",
        "\n",
        "gpu_rand = torch.rand(2, 2, device = 'cuda')\n",
        "\n",
        "print(gpu_rand)"
      ]
    },
    {
      "cell_type": "code",
      "execution_count": 35,
      "metadata": {},
      "outputs": [
        {
          "name": "stdout",
          "output_type": "stream",
          "text": [
            "1\n"
          ]
        }
      ],
      "source": [
        "# Number of gpus\n",
        "print(torch.cuda.device_count())"
      ]
    },
    {
      "cell_type": "code",
      "execution_count": 36,
      "metadata": {},
      "outputs": [
        {
          "name": "stdout",
          "output_type": "stream",
          "text": [
            "Device: cuda:0\n",
            "tensor([[0.0024, 0.6778],\n",
            "        [0.2441, 0.6812]], device='cuda:0')\n"
          ]
        }
      ],
      "source": [
        "device = 'cuda:0' if torch.cuda.is_available() else 'cpu'\n",
        "\n",
        "print('Device: {}'.format(device))\n",
        "\n",
        "x = torch.rand(2, 2, device = device)\n",
        "print(x)"
      ]
    },
    {
      "cell_type": "code",
      "execution_count": 37,
      "metadata": {},
      "outputs": [
        {
          "name": "stdout",
          "output_type": "stream",
          "text": [
            "tensor([[0.9411, 0.4922],\n",
            "        [0.5461, 0.5396]])\n",
            "tensor([[0.9411, 0.4922],\n",
            "        [0.5461, 0.5396]], device='cuda:0')\n"
          ]
        }
      ],
      "source": [
        "y = torch.rand(2, 2)\n",
        "print(y)\n",
        "y = y.to(device)\n",
        "print(y)\n",
        "\n",
        "# All tensors must be on the same device for computation."
      ]
    },
    {
      "cell_type": "code",
      "execution_count": 38,
      "metadata": {},
      "outputs": [
        {
          "name": "stdout",
          "output_type": "stream",
          "text": [
            "[[1. 1. 1.]\n",
            " [1. 1. 1.]]\n"
          ]
        }
      ],
      "source": [
        "import numpy as np\n",
        "\n",
        "numpy_array = np.ones((2, 3))\n",
        "print(numpy_array)"
      ]
    },
    {
      "cell_type": "code",
      "execution_count": 39,
      "metadata": {},
      "outputs": [
        {
          "name": "stdout",
          "output_type": "stream",
          "text": [
            "tensor([[1., 1., 1.],\n",
            "        [1., 1., 1.]], dtype=torch.float64)\n"
          ]
        }
      ],
      "source": [
        "pytorch_tensor = torch.from_numpy(numpy_array)\n",
        "print(pytorch_tensor)"
      ]
    },
    {
      "cell_type": "code",
      "execution_count": 40,
      "metadata": {},
      "outputs": [
        {
          "name": "stdout",
          "output_type": "stream",
          "text": [
            "tensor([[0.3053, 0.1973, 0.3285],\n",
            "        [0.5655, 0.0065, 0.7765]])\n",
            "[[0.30533576 0.19729328 0.32854253]\n",
            " [0.5655247  0.00654191 0.7765235 ]]\n"
          ]
        }
      ],
      "source": [
        "pytorch_rand = torch.rand(2, 3)\n",
        "print(pytorch_rand)\n",
        "\n",
        "numpy_rand = pytorch_rand.numpy()\n",
        "print(numpy_rand)"
      ]
    },
    {
      "cell_type": "code",
      "execution_count": 41,
      "metadata": {},
      "outputs": [
        {
          "name": "stdout",
          "output_type": "stream",
          "text": [
            "tensor([0.0000, 0.2618, 0.5236, 0.7854, 1.0472, 1.3090, 1.5708, 1.8326, 2.0944,\n",
            "        2.3562, 2.6180, 2.8798, 3.1416, 3.4034, 3.6652, 3.9270, 4.1888, 4.4506,\n",
            "        4.7124, 4.9742, 5.2360, 5.4978, 5.7596, 6.0214, 6.2832],\n",
            "       requires_grad=True)\n"
          ]
        }
      ],
      "source": [
        "import matplotlib.pyplot as plt\n",
        "import matplotlib.ticker as ticker\n",
        "\n",
        "a = torch.linspace(0., 2. * math.pi, steps = 25, requires_grad = True)\n",
        "print(a)"
      ]
    },
    {
      "cell_type": "code",
      "execution_count": 42,
      "metadata": {},
      "outputs": [
        {
          "data": {
            "text/plain": [
              "[<matplotlib.lines.Line2D at 0x7f921f817df0>]"
            ]
          },
          "execution_count": 42,
          "metadata": {},
          "output_type": "execute_result"
        },
        {
          "data": {
            "image/png": "[encoded data removed]",
            "text/plain": [
              "<Figure size 640x480 with 1 Axes>"
            ]
          },
          "metadata": {},
          "output_type": "display_data"
        }
      ],
      "source": [
        "b = torch.sin(a)\n",
        "plt.xlabel(\"a\")\n",
        "plt.ylabel(\"sin(a)\")\n",
        "plt.title(\"sin(x)\")\n",
        "plt.plot(a.detach(), b.detach())"
      ]
    },
    {
      "cell_type": "code",
      "execution_count": 43,
      "metadata": {},
      "outputs": [
        {
          "name": "stdout",
          "output_type": "stream",
          "text": [
            "tensor([ 0.0000e+00,  2.5882e-01,  5.0000e-01,  7.0711e-01,  8.6603e-01,\n",
            "         9.6593e-01,  1.0000e+00,  9.6593e-01,  8.6603e-01,  7.0711e-01,\n",
            "         5.0000e-01,  2.5882e-01, -8.7423e-08, -2.5882e-01, -5.0000e-01,\n",
            "        -7.0711e-01, -8.6603e-01, -9.6593e-01, -1.0000e+00, -9.6593e-01,\n",
            "        -8.6603e-01, -7.0711e-01, -5.0000e-01, -2.5882e-01,  1.7485e-07],\n",
            "       grad_fn=<SinBackward0>)\n"
          ]
        }
      ],
      "source": [
        "print(b)"
      ]
    },
    {
      "cell_type": "code",
      "execution_count": 44,
      "metadata": {},
      "outputs": [
        {
          "name": "stdout",
          "output_type": "stream",
          "text": [
            "tensor([ 0.0000e+00,  5.1764e-01,  1.0000e+00,  1.4142e+00,  1.7321e+00,\n",
            "         1.9319e+00,  2.0000e+00,  1.9319e+00,  1.7321e+00,  1.4142e+00,\n",
            "         1.0000e+00,  5.1764e-01, -1.7485e-07, -5.1764e-01, -1.0000e+00,\n",
            "        -1.4142e+00, -1.7321e+00, -1.9319e+00, -2.0000e+00, -1.9319e+00,\n",
            "        -1.7321e+00, -1.4142e+00, -1.0000e+00, -5.1764e-01,  3.4969e-07],\n",
            "       grad_fn=<MulBackward0>)\n"
          ]
        }
      ],
      "source": [
        "c = 2 * b\n",
        "print(c)"
      ]
    },
    {
      "cell_type": "code",
      "execution_count": 45,
      "metadata": {},
      "outputs": [
        {
          "name": "stdout",
          "output_type": "stream",
          "text": [
            "tensor([ 1.0000e+00,  1.5176e+00,  2.0000e+00,  2.4142e+00,  2.7321e+00,\n",
            "         2.9319e+00,  3.0000e+00,  2.9319e+00,  2.7321e+00,  2.4142e+00,\n",
            "         2.0000e+00,  1.5176e+00,  1.0000e+00,  4.8236e-01, -3.5763e-07,\n",
            "        -4.1421e-01, -7.3205e-01, -9.3185e-01, -1.0000e+00, -9.3185e-01,\n",
            "        -7.3205e-01, -4.1421e-01,  4.7684e-07,  4.8236e-01,  1.0000e+00],\n",
            "       grad_fn=<AddBackward0>)\n"
          ]
        }
      ],
      "source": [
        "d = c + 1\n",
        "print(d)"
      ]
    },
    {
      "cell_type": "code",
      "execution_count": 46,
      "metadata": {},
      "outputs": [
        {
          "name": "stdout",
          "output_type": "stream",
          "text": [
            "tensor(25., grad_fn=<SumBackward0>)\n"
          ]
        }
      ],
      "source": [
        "out = d.sum()\n",
        "print(out)"
      ]
    },
    {
      "cell_type": "code",
      "execution_count": 47,
      "metadata": {},
      "outputs": [
        {
          "name": "stdout",
          "output_type": "stream",
          "text": [
            "d:\n",
            "<AddBackward0 object at 0x7f91ebd4d490>\n",
            "((<MulBackward0 object at 0x7f91ebd4deb0>, 0), (None, 0))\n",
            "((<SinBackward0 object at 0x7f91ebd4d490>, 0), (None, 0))\n",
            "((<AccumulateGrad object at 0x7f91ebd4dfa0>, 0),)\n",
            "()\n",
            "\n",
            "c:\n",
            "<MulBackward0 object at 0x7f91ebd4df10>\n",
            "\n",
            "b:\n",
            "<SinBackward0 object at 0x7f91ebd4df10>\n",
            "\n",
            "a:\n",
            "None\n"
          ]
        }
      ],
      "source": [
        "print('d:')\n",
        "print(d.grad_fn)\n",
        "print(d.grad_fn.next_functions)\n",
        "print(d.grad_fn.next_functions[0][0].next_functions)\n",
        "print(d.grad_fn.next_functions[0][0].next_functions[0][0].next_functions)\n",
        "print(d.grad_fn.next_functions[0][0].next_functions[0][0].next_functions[0][0].next_functions)\n",
        "print('\\nc:')\n",
        "print(c.grad_fn)\n",
        "print('\\nb:')\n",
        "print(b.grad_fn)\n",
        "print('\\na:')\n",
        "print(a.grad_fn)"
      ]
    },
    {
      "cell_type": "code",
      "execution_count": 48,
      "metadata": {},
      "outputs": [
        {
          "name": "stdout",
          "output_type": "stream",
          "text": [
            "tensor([ 2.0000e+00,  1.9319e+00,  1.7321e+00,  1.4142e+00,  1.0000e+00,\n",
            "         5.1764e-01, -8.7423e-08, -5.1764e-01, -1.0000e+00, -1.4142e+00,\n",
            "        -1.7321e+00, -1.9319e+00, -2.0000e+00, -1.9319e+00, -1.7321e+00,\n",
            "        -1.4142e+00, -1.0000e+00, -5.1764e-01,  2.3850e-08,  5.1764e-01,\n",
            "         1.0000e+00,  1.4142e+00,  1.7321e+00,  1.9319e+00,  2.0000e+00])\n"
          ]
        },
        {
          "data": {
            "text/plain": [
              "[<matplotlib.lines.Line2D at 0x7f91eb5054c0>]"
            ]
          },
          "execution_count": 48,
          "metadata": {},
          "output_type": "execute_result"
        },
        {
          "data": {
            "image/png": "[encoded data removed]",
            "text/plain": [
              "<Figure size 640x480 with 1 Axes>"
            ]
          },
          "metadata": {},
          "output_type": "display_data"
        }
      ],
      "source": [
        "out.backward()\n",
        "print(a.grad)\n",
        "\n",
        "plt.plot(a.detach(), a.grad.detach())"
      ]
    },
    {
      "cell_type": "code",
      "execution_count": 49,
      "metadata": {},
      "outputs": [],
      "source": [
        "# Only the leaf nodes of the computation graph have their gradient computed."
      ]
    },
    {
      "cell_type": "code",
      "execution_count": 50,
      "metadata": {},
      "outputs": [],
      "source": [
        "BATCH_SIZE = 16\n",
        "DIM_IN = 1000\n",
        "HIDDEN_SIZE = 100\n",
        "DIM_OUT = 10\n",
        "\n",
        "class TinyModel(torch.nn.Module):\n",
        "\n",
        "  def __init__(self):\n",
        "    super(TinyModel, self).__init__()\n",
        "\n",
        "    self.layer1 = torch.nn.Linear(1000, 100)\n",
        "    self.relu = torch.nn.ReLU()\n",
        "    self.layer2 = torch.nn.Linear(100, 10)\n",
        "\n",
        "  def forward(self, x):\n",
        "    x = self.layer1(x)\n",
        "    x = self.relu(x)\n",
        "    x = self.layer2(x)\n",
        "    return x\n",
        "\n",
        "\n",
        "some_input = torch.randn(BATCH_SIZE, DIM_IN, requires_grad = False)\n",
        "ideal_output = torch.randn(BATCH_SIZE, DIM_OUT, requires_grad = False)\n",
        "\n",
        "model = TinyModel()"
      ]
    },
    {
      "cell_type": "code",
      "execution_count": 51,
      "metadata": {},
      "outputs": [
        {
          "name": "stdout",
          "output_type": "stream",
          "text": [
            "tensor([ 0.0923, -0.0489,  0.0261, -0.0763, -0.0773,  0.0064, -0.0458,  0.0910,\n",
            "         0.0139,  0.0356], grad_fn=<SliceBackward0>)\n",
            "None\n"
          ]
        }
      ],
      "source": [
        "# In suclass of nn.Module, it is assumed we want to compute gradients.\n",
        "print(model.layer2.weight[0][0:10])\n",
        "print(model.layer2.weight.grad)"
      ]
    },
    {
      "cell_type": "code",
      "execution_count": 52,
      "metadata": {},
      "outputs": [
        {
          "name": "stdout",
          "output_type": "stream",
          "text": [
            "tensor(146.2116, grad_fn=<SumBackward0>)\n"
          ]
        }
      ],
      "source": [
        "optimizer = torch.optim.SGD(model.parameters(), lr = 0.001)\n",
        "\n",
        "prediction = model(some_input)\n",
        "loss = (ideal_output - prediction).pow(2).sum()\n",
        "print(loss)"
      ]
    },
    {
      "cell_type": "code",
      "execution_count": 53,
      "metadata": {},
      "outputs": [
        {
          "name": "stdout",
          "output_type": "stream",
          "text": [
            "tensor([ 0.0923, -0.0489,  0.0261, -0.0763, -0.0773,  0.0064, -0.0458,  0.0910,\n",
            "         0.0139,  0.0356], grad_fn=<SliceBackward0>)\n",
            "tensor([-0.0171,  0.4951,  0.3446, -4.3807, -1.1512, -0.6447,  0.8253, -1.2583,\n",
            "        -3.1971, -2.2746])\n"
          ]
        }
      ],
      "source": [
        "loss.backward()\n",
        "print(model.layer2.weight[0][0:10])\n",
        "print(model.layer2.weight.grad[0][0:10])"
      ]
    },
    {
      "cell_type": "code",
      "execution_count": 54,
      "metadata": {},
      "outputs": [
        {
          "name": "stdout",
          "output_type": "stream",
          "text": [
            "tensor([ 0.0923, -0.0494,  0.0258, -0.0719, -0.0761,  0.0070, -0.0467,  0.0923,\n",
            "         0.0171,  0.0378], grad_fn=<SliceBackward0>)\n",
            "tensor([-0.0171,  0.4951,  0.3446, -4.3807, -1.1512, -0.6447,  0.8253, -1.2583,\n",
            "        -3.1971, -2.2746])\n"
          ]
        }
      ],
      "source": [
        "optimizer.step()\n",
        "print(model.layer2.weight[0][0:10])\n",
        "print(model.layer2.weight.grad[0][0:10])"
      ]
    },
    {
      "cell_type": "code",
      "execution_count": 55,
      "metadata": {},
      "outputs": [
        {
          "name": "stdout",
          "output_type": "stream",
          "text": [
            "tensor([-0.0171,  0.4951,  0.3446, -4.3807, -1.1512, -0.6447,  0.8253, -1.2583,\n",
            "        -3.1971, -2.2746])\n",
            "tensor([ -9.2761,  10.4892,   2.9984,  -5.6924,  -1.5252,   2.8243,   8.5725,\n",
            "        -13.2700,   5.7830, -13.4617])\n",
            "tensor([0., 0., 0., 0., 0., 0., 0., 0., 0., 0.])\n"
          ]
        }
      ],
      "source": [
        "# optimizer.zero_grad() is required to stop gradient from accumulating.\n",
        "print(model.layer2.weight.grad[0][0:10])\n",
        "\n",
        "for i in range(0, 5):\n",
        "  prediction = model(some_input)\n",
        "  loss = (ideal_output - prediction).pow(2).sum()\n",
        "  loss.backward()\n",
        "\n",
        "print(model.layer2.weight.grad[0][0:10])\n",
        "\n",
        "optimizer.zero_grad(set_to_none = False)\n",
        "\n",
        "print(model.layer2.weight.grad[0][0:10])"
      ]
    },
    {
      "cell_type": "code",
      "execution_count": 56,
      "metadata": {},
      "outputs": [
        {
          "name": "stdout",
          "output_type": "stream",
          "text": [
            "tensor([0.6580, 0.1519, 0.1373, 0.6356, 0.6052], requires_grad=True)\n",
            "tensor([0.6580, 0.1519, 0.1373, 0.6356, 0.6052])\n"
          ]
        }
      ],
      "source": [
        "def add_tensors1(x, y):\n",
        "  return x + y\n",
        "\n",
        "@torch.no_grad()\n",
        "def add_tensors2(x, y):\n",
        "  return x + y # Not part of computation graph and gradient computation.\n",
        "\n",
        "\n",
        "x = torch.rand(5, requires_grad = True) # Requires gradient tracking\n",
        "y = x.detach() # y doesnot require gradient tracking\n",
        "\n",
        "print(x)\n",
        "print(y)"
      ]
    },
    {
      "cell_type": "code",
      "execution_count": 57,
      "metadata": {},
      "outputs": [
        {
          "name": "stdout",
          "output_type": "stream",
          "text": [
            "The model:\n",
            "SmallModel(\n",
            "  (linear1): Linear(in_features=100, out_features=200, bias=True)\n",
            "  (activation): ReLU()\n",
            "  (linear2): Linear(in_features=200, out_features=10, bias=True)\n",
            "  (softmax): Softmax(dim=None)\n",
            ")\n",
            "\n",
            "\n",
            "Just one layer:\n",
            "Linear(in_features=200, out_features=10, bias=True)\n",
            "\n",
            "\n",
            "Model params:\n",
            "torch.Size([200, 100])\n",
            "torch.Size([200])\n",
            "torch.Size([10, 200])\n",
            "torch.Size([10])\n"
          ]
        }
      ],
      "source": [
        "class SmallModel(torch.nn.Module):\n",
        "\n",
        "  def __init__(self):\n",
        "    super(SmallModel, self).__init__()\n",
        "\n",
        "    self.linear1 = torch.nn.Linear(100, 200)\n",
        "    self.activation = torch.nn.ReLU()\n",
        "    self.linear2 = torch.nn.Linear(200, 10)\n",
        "    self.softmax = torch.nn.Softmax()\n",
        "\n",
        "  def forward(self, x):\n",
        "    x = self.linear1(x)\n",
        "    x = self.activation(x)\n",
        "    x = self.linear2(x)\n",
        "    x = self.softmax(x)\n",
        "\n",
        "    return x\n",
        "\n",
        "small = SmallModel()\n",
        "\n",
        "print('The model:')\n",
        "print(small)\n",
        "\n",
        "print('\\n\\nJust one layer:')\n",
        "print(small.linear2)\n",
        "\n",
        "print('\\n\\nModel params:')\n",
        "for param in small.parameters():\n",
        "  print(param.shape)"
      ]
    },
    {
      "cell_type": "code",
      "execution_count": 58,
      "metadata": {},
      "outputs": [],
      "source": [
        "from torch.utils.tensorboard import SummaryWriter\n",
        "# Image datasets and image manipulation\n",
        "import torchvision\n",
        "import torchvision.transforms as transforms"
      ]
    },
    {
      "cell_type": "code",
      "execution_count": 59,
      "metadata": {},
      "outputs": [
        {
          "data": {
            "image/png": "[encoded data removed]",
            "text/plain": [
              "<Figure size 640x480 with 1 Axes>"
            ]
          },
          "metadata": {},
          "output_type": "display_data"
        }
      ],
      "source": [
        "# Gather datasets and prepare them for consumption\n",
        "transform = transforms.Compose([\n",
        "  transforms.ToTensor(),\n",
        "  transforms.Normalize((0.5,), (0.5,))\n",
        "])\n",
        "\n",
        "# Store seperate training and validation splits in ./data\n",
        "training_set = torchvision.datasets.FashionMNIST('./data',\n",
        "    download=True,\n",
        "    train=True,\n",
        "    transform=transform)\n",
        "validation_set = torchvision.datasets.FashionMNIST('./data',\n",
        "    download=True,\n",
        "    train=False,\n",
        "    transform=transform)\n",
        "\n",
        "training_loader = torch.utils.data.DataLoader(training_set,\n",
        "                                              batch_size=4,\n",
        "                                              shuffle=True,\n",
        "                                              num_workers=2)\n",
        "\n",
        "\n",
        "validation_loader = torch.utils.data.DataLoader(validation_set,\n",
        "                                                batch_size=4,\n",
        "                                                shuffle=False,\n",
        "                                                num_workers=2)\n",
        "\n",
        "# Class labels\n",
        "classes = ('T-shirt/top', 'Trouser', 'Pullover', 'Dress', 'Coat',\n",
        "        'Sandal', 'Shirt', 'Sneaker', 'Bag', 'Ankle Boot')\n",
        "\n",
        "# Helper function for inline image display\n",
        "def matplotlib_imshow(img, one_channel=False):\n",
        "    if one_channel:\n",
        "        img = img.mean(dim=0)\n",
        "    img = img / 2 + 0.5     # unnormalize\n",
        "    npimg = img.numpy()\n",
        "    if one_channel:\n",
        "        plt.imshow(npimg, cmap=\"Greys\")\n",
        "    else:\n",
        "        plt.imshow(np.transpose(npimg, (1, 2, 0)))\n",
        "\n",
        "# Extract a batch of 4 images\n",
        "dataiter = iter(training_loader)\n",
        "images, labels = next(dataiter)\n",
        "\n",
        "# Create a grid from the images and show them\n",
        "img_grid = torchvision.utils.make_grid(images)\n",
        "matplotlib_imshow(img_grid, one_channel=True)\n"
      ]
    },
    {
      "cell_type": "code",
      "execution_count": 60,
      "metadata": {},
      "outputs": [],
      "source": [
        "writer = SummaryWriter('runs/fashion_mnist_experiment_1')\n",
        "\n",
        "writer.add_image('Four Fashion-MNIST Images', img_grid)\n",
        "writer.flush()"
      ]
    },
    {
      "cell_type": "code",
      "execution_count": 61,
      "metadata": {},
      "outputs": [],
      "source": [
        "import torch.nn as nn\n",
        "import torch.optim as optim\n",
        "import torch.nn.functional as F\n",
        "\n",
        "class Net(nn.Module):\n",
        "    def __init__(self):\n",
        "        super(Net, self).__init__()\n",
        "        self.conv1 = nn.Conv2d(1, 6, 5)\n",
        "        self.pool = nn.MaxPool2d(2, 2)\n",
        "        self.conv2 = nn.Conv2d(6, 16, 5)\n",
        "        self.fc1 = nn.Linear(16 * 4 * 4, 120)\n",
        "        self.fc2 = nn.Linear(120, 84)\n",
        "        self.fc3 = nn.Linear(84, 10)\n",
        "\n",
        "    def forward(self, x):\n",
        "        x = self.pool(F.relu(self.conv1(x)))\n",
        "        x = self.pool(F.relu(self.conv2(x)))\n",
        "        x = x.view(-1, 16 * 4 * 4)\n",
        "        x = F.relu(self.fc1(x))\n",
        "        x = F.relu(self.fc2(x))\n",
        "        x = self.fc3(x)\n",
        "        return x\n",
        "\n",
        "\n",
        "net = Net()\n",
        "criterion = nn.CrossEntropyLoss()\n",
        "optimizer = optim.SGD(net.parameters(), lr=0.001, momentum=0.9)"
      ]
    },
    {
      "cell_type": "code",
      "execution_count": 62,
      "metadata": {},
      "outputs": [
        {
          "name": "stdout",
          "output_type": "stream",
          "text": [
            "2500\n",
            "Batch 1000\n",
            "Batch 2000\n",
            "Batch 3000\n",
            "Batch 4000\n",
            "Batch 5000\n",
            "Batch 6000\n",
            "Batch 7000\n",
            "Batch 8000\n",
            "Batch 9000\n",
            "Batch 10000\n",
            "Batch 11000\n",
            "Batch 12000\n",
            "Batch 13000\n",
            "Batch 14000\n",
            "Batch 15000\n",
            "Finished Training\n"
          ]
        }
      ],
      "source": [
        "print(len(validation_loader))\n",
        "for epoch in range(1):  # loop over the dataset multiple times\n",
        "    running_loss = 0.0\n",
        "\n",
        "    for i, data in enumerate(training_loader, 0):\n",
        "        # basic training loop\n",
        "        inputs, labels = data\n",
        "        optimizer.zero_grad()\n",
        "        outputs = net(inputs)\n",
        "        loss = criterion(outputs, labels)\n",
        "        loss.backward()\n",
        "        optimizer.step()\n",
        "\n",
        "        running_loss += loss.item()\n",
        "        if i % 1000 == 999:    # Every 1000 mini-batches...\n",
        "            print('Batch {}'.format(i + 1))\n",
        "            # Check against the validation set\n",
        "            running_vloss = 0.0\n",
        "\n",
        "            # In evaluation mode some model specific operations can be omitted eg. dropout layer\n",
        "            net.train(False) # Switching to evaluation mode, eg. turning off regularisation\n",
        "            for j, vdata in enumerate(validation_loader, 0):\n",
        "                vinputs, vlabels = vdata\n",
        "                voutputs = net(vinputs)\n",
        "                vloss = criterion(voutputs, vlabels)\n",
        "                running_vloss += vloss.item()\n",
        "            net.train(True) # Switching back to training mode, eg. turning on regularisation\n",
        "\n",
        "            avg_loss = running_loss / 1000\n",
        "            avg_vloss = running_vloss / len(validation_loader)\n",
        "\n",
        "            # Log the running loss averaged per batch\n",
        "            writer.add_scalars('Training vs. Validation Loss',\n",
        "                            { 'Training' : avg_loss, 'Validation' : avg_vloss },\n",
        "                            epoch * len(training_loader) + i)\n",
        "\n",
        "            running_loss = 0.0\n",
        "print('Finished Training')\n",
        "\n",
        "writer.flush()"
      ]
    },
    {
      "cell_type": "code",
      "execution_count": 63,
      "metadata": {},
      "outputs": [],
      "source": [
        "dataiter = iter(training_loader)\n",
        "images, labels = next(dataiter)\n",
        "\n",
        "writer.add_graph(net, images)\n",
        "writer.flush()"
      ]
    },
    {
      "cell_type": "code",
      "execution_count": 64,
      "metadata": {},
      "outputs": [
        {
          "name": "stdout",
          "output_type": "stream",
          "text": [
            "warning: Embedding dir exists, did you set global_step for add_embedding()?\n"
          ]
        }
      ],
      "source": [
        "# Select a random subset of data and corresponding labels\n",
        "def select_n_random(data, labels, n=100):\n",
        "    assert len(data) == len(labels)\n",
        "\n",
        "    perm = torch.randperm(len(data))\n",
        "    return data[perm][:n], labels[perm][:n]\n",
        "\n",
        "# Extract a random subset of data\n",
        "images, labels = select_n_random(training_set.data, training_set.targets)\n",
        "\n",
        "# get the class labels for each image\n",
        "class_labels = [classes[label] for label in labels]\n",
        "\n",
        "# log embeddings\n",
        "features = images.view(-1, 28 * 28)\n",
        "writer.add_embedding(features,\n",
        "                    metadata=class_labels,\n",
        "                    label_img=images.unsqueeze(1))\n",
        "writer.flush()\n",
        "writer.close()"
      ]
    },
    {
      "cell_type": "code",
      "execution_count": 65,
      "metadata": {},
      "outputs": [],
      "source": [
        "# Remember that you must call model.eval() to set dropout and batch normalization layers to evaluation mode\n",
        "# efore running inference. Failing to do this will yield inconsistent inference results.\n",
        "# If you wish to resuming training, call model.train() to ensure these layers are in training mode."
      ]
    }
  ],
  "metadata": {
    "accelerator": "GPU",
    "colab": {
      "collapsed_sections": [],
      "name": "00_pytorch_fundamentals_exercises.ipynb",
      "provenance": []
    },
    "kernelspec": {
      "display_name": "Python 3",
      "name": "python3"
    },
    "language_info": {
      "codemirror_mode": {
        "name": "ipython",
        "version": 3
      },
      "file_extension": ".py",
      "mimetype": "text/x-python",
      "name": "python",
      "nbconvert_exporter": "python",
      "pygments_lexer": "ipython3",
      "version": "3.9.18"
    }
  },
  "nbformat": 4,
  "nbformat_minor": 0
}

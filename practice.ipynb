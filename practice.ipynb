{
 "cells": [
  {
   "cell_type": "code",
   "execution_count": 1,
   "metadata": {},
   "outputs": [],
   "source": [
    "import torch\n",
    "import math"
   ]
  },
  {
   "cell_type": "code",
   "execution_count": 2,
   "metadata": {},
   "outputs": [
    {
     "name": "stdout",
     "output_type": "stream",
     "text": [
      "<class 'torch.Tensor'>\n",
      "tensor([[2.7340e+20, 6.8589e+22, 1.5766e-19, 2.0443e+29],\n",
      "        [3.1090e-18, 2.0070e+29, 3.2994e-18, 1.4062e-16],\n",
      "        [7.7130e+31, 1.8057e+28, 2.1707e-18, 1.0535e+21]])\n"
     ]
    }
   ],
   "source": [
    "x = torch.empty(3, 4)\n",
    "print(type(x))\n",
    "print(x)"
   ]
  },
  {
   "cell_type": "code",
   "execution_count": 4,
   "metadata": {},
   "outputs": [
    {
     "data": {
      "text/plain": [
       "tensor([[-1.0735,  0.2160, -0.3547,  0.8405, -1.3851,  0.8360,  0.4501],\n",
       "        [-0.1914,  0.2194,  1.4561,  1.3826,  0.7362, -0.7205, -1.8300],\n",
       "        [ 1.1503,  0.2822, -0.3265,  0.4122,  1.5091,  0.2162, -0.2948],\n",
       "        [-1.4856, -1.1643, -0.1373, -1.9663, -0.4545, -0.1950,  1.8492],\n",
       "        [-0.7272, -1.9306,  0.1669,  0.7835, -0.0842, -1.2111,  1.5724],\n",
       "        [ 1.7604,  1.5172,  0.1005, -0.5642,  0.4700,  1.5351,  0.3028],\n",
       "        [-0.4627, -1.5400, -0.2017, -1.2118,  2.3204, -0.6400, -0.6286]])"
      ]
     },
     "execution_count": 4,
     "metadata": {},
     "output_type": "execute_result"
    }
   ],
   "source": []
  },
  {
   "cell_type": "code",
   "execution_count": null,
   "metadata": {},
   "outputs": [],
   "source": []
  }
 ],
 "metadata": {
  "kernelspec": {
   "display_name": "esdnet",
   "language": "python",
   "name": "python3"
  },
  "language_info": {
   "codemirror_mode": {
    "name": "ipython",
    "version": 3
   },
   "file_extension": ".py",
   "mimetype": "text/x-python",
   "name": "python",
   "nbconvert_exporter": "python",
   "pygments_lexer": "ipython3",
   "version": "3.8.13"
  }
 },
 "nbformat": 4,
 "nbformat_minor": 2
}
